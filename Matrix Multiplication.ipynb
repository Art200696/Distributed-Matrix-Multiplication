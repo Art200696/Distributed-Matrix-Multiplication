{
 "cells": [
  {
   "cell_type": "code",
   "execution_count": 2,
   "metadata": {
    "colab": {},
    "colab_type": "code",
    "id": "Z7DvlLzHoL_K"
   },
   "outputs": [],
   "source": [
    "import numpy as np\n",
    "import math\n",
    "\n",
    "import matplotlib.pyplot as plt\n",
    "%matplotlib inline "
   ]
  },
  {
   "cell_type": "markdown",
   "metadata": {},
   "source": [
    "Since matrix multiplication is such a central operation in many numerical algorithms, much work has been invested in making matrix multiplication algorithms efficient. Many different algorithms have been designed for multiplying matrices on different types of hardware, including parallel and distributed systems, where the computational work is spread over multiple processors (perhaps over a network).\n",
    "\n",
    "Directly applying the mathematical definition of matrix multiplication gives an algorithm that takes time on the order of $n^3$ to multiply two $n \\times n$ matrices ($\\Theta(n^3)$ in big $O$ notation). Better asymptotic bounds on the time required to multiply matrices have been known since the work of Strassen in the 1960s, but it is still unknown what the optimal time is (i.e., what the complexity of the problem is)."
   ]
  },
  {
   "cell_type": "markdown",
   "metadata": {},
   "source": [
    "CopperSmith was the asymptotically fastest known matrix multiplication algorithm which solve the problem in $O(n^{2.3754})$ time. However, it's not used in practice because of the large hidden constants in the algorithm."
   ]
  },
  {
   "cell_type": "markdown",
   "metadata": {},
   "source": [
    "The definition of matrix multiplication is that if $C = AB$ for an $n \\times m$ matrix A and an $m \\times p$ matrix $B$, then $C$ is an $n \\times p$ matrix with entries\n",
    "\\begin{equation}\n",
    "    c_{ij} = \\sum_{k = 1}^{m}{a_{ik}b_{kj}}\n",
    "\\end{equation}"
   ]
  },
  {
   "cell_type": "markdown",
   "metadata": {},
   "source": [
    "Multiplication of an $n\\times n$ matrix $A$ by a vector $x$ of size $n\\times 1$ ($y=Ax$):\n",
    "$$\n",
    "y_{i} = \\sum_{i=1}^n a_{ij} x_j\n",
    "$$\n",
    "In total, $n^2$ mutliplications and $n(n-1)$ additions are required which indicates $\\mathcal{O}(n^2)$ overall complexity."
   ]
  },
  {
   "cell_type": "markdown",
   "metadata": {},
   "source": [
    "BLAS routines are highly optimized for particular operation sets. We can observe that the main difference is between the number of operations and the number of input data.\n",
    "\n",
    "1. BLAS-1: $\\mathcal{O}(n)$ data, $\\mathcal{O}(n)$ operations\n",
    "2. BLAS-2: $\\mathcal{O}(n^2)$ data, $\\mathcal{O}(n^2)$ operations\n",
    "3. BLAS-3: $\\mathcal{O}(n^2)$ data, $\\mathcal{O}(n^3)$ operations"
   ]
  },
  {
   "cell_type": "markdown",
   "metadata": {
    "colab_type": "text",
    "id": "nmRpMZkpoL_z"
   },
   "source": [
    "# Naive matrix multiplication"
   ]
  },
  {
   "cell_type": "code",
   "execution_count": 3,
   "metadata": {
    "colab": {},
    "colab_type": "code",
    "id": "So_3vaAUoL_z"
   },
   "outputs": [],
   "source": [
    "def naive_multiplication(A, B):\n",
    "    \"\"\"\n",
    "    Naive matrix multiplication\n",
    "    Parameters: Matrices A, B\n",
    "    \n",
    "    Returns: Matrix C = AB\n",
    "    \"\"\"\n",
    "    \n",
    "    rowsA, columnsA = len(A), len(A[0])\n",
    "    rowsB, columnsB = len(B), len(B[0])\n",
    "    \n",
    "    #if columnsA != rowsB:\n",
    "    #    return \"can not multiply\" \n",
    "    # or throw/return something else\n",
    "    \n",
    "    C = np.zeros((rowsA, columnsB))\n",
    "    for i in range(rowsA):\n",
    "        for j in range(columnsB):\n",
    "            for k in range(rowsB):\n",
    "                C[i][j] += A[i][k] * B[k][j]\n",
    "    return C"
   ]
  },
  {
   "cell_type": "markdown",
   "metadata": {},
   "source": [
    "# Strassen algorithm"
   ]
  },
  {
   "cell_type": "code",
   "execution_count": 4,
   "metadata": {
    "colab": {},
    "colab_type": "code",
    "id": "UzxZr6I5oL_1"
   },
   "outputs": [],
   "source": [
    "# Implemented using the pseudocodes given in\n",
    "# https://en.wikipedia.org/wiki/Strassen_algorithm\n",
    "# http://users.monash.edu/~lloyd/tildeProgLang/Algol68/strassen.a68\n",
    "\n",
    "def strassen_util(A, B):\n",
    "    n = len(A)\n",
    "    if n <= 4:\n",
    "        # We could use 667 here, but just to let Strassen to be called instead of naive multiplication\n",
    "        # for more cases considering that you ask to use max(N) = 700 in the below tasks.\n",
    "        return naive_multiplication(A, B) # no point of using Strassen for smaller matrices\n",
    "    else:\n",
    "        half_size = (n >> 1)\n",
    "        #A11 = np.zeros((half_size, half_size))\n",
    "        A11 = A[:half_size, :half_size]\n",
    "        #A12 = np.zeros((half_size, half_size))\n",
    "        A12 = A[:half_size, half_size:]\n",
    "        #A21 = np.zeros((half_size, half_size))\n",
    "        A21 = A[half_size:, :half_size]\n",
    "        #A22 = np.zeros((half_size, half_size))\n",
    "        A22 = A[half_size:, half_size:]\n",
    "        \n",
    "        #B11 = np.zeros((half_size, half_size))\n",
    "        B11 = B[:half_size, :half_size]\n",
    "        #B12 = np.zeros((half_size, half_size))\n",
    "        B12 = B[:half_size, half_size:]\n",
    "        #B21 = np.zeros((half_size, half_size))\n",
    "        B21 = B[half_size:, :half_size]\n",
    "        #B22 = np.zeros((half_size, half_size))\n",
    "        B22 = B[half_size:, half_size:]\n",
    "    \n",
    "        A_final = np.zeros((half_size, half_size))\n",
    "        B_final = np.zeros((half_size, half_size))\n",
    "          \n",
    "        p1 = strassen_util(A11 + A22, B11 + B22)\n",
    "        p2 = strassen_util(A21 + A22, B11)\n",
    "        p3 = strassen_util(A11, B12 - B22)\n",
    "        p4 = strassen_util(A22, B21 - B11)\n",
    "        p5 = strassen_util(A11 + A12, B22)\n",
    "        p6 = strassen_util(A21 - A11, B11 + B12)\n",
    "        p7 = strassen_util(A12 - A22, B21 + B22)\n",
    "\n",
    "        C12 = p3 + p5\n",
    "        C21 = p2 + p4\n",
    "        A_final = p1 + p4\n",
    "        B_final = A_final + p7\n",
    "        C11 = B_final - p5\n",
    "        A_final = p1 + p3\n",
    "        B_final = A_final + p6\n",
    "        C22 = B_final - p2\n",
    "        C = np.zeros((n, n))\n",
    "        #pdb.set_trace()\n",
    "        C[:half_size, :half_size] = C11[:half_size, :half_size]\n",
    "        C[:half_size, half_size:] = C12[:half_size, :half_size]\n",
    "        C[half_size:, :half_size] = C21[:half_size, :half_size]\n",
    "        C[half_size:, half_size:] = C22[:half_size, :half_size]\n",
    "#         for i in range(half_size):\n",
    "#             for j in range(half_size):\n",
    "#                 C[i][j] = C11[i][j]\n",
    "#                 C[i][j + half_size] = C12[i][j]\n",
    "#                 C[i + half_size][j] = C21[i][j]\n",
    "#                 C[i + half_size][j + half_size] = C22[i][j]\n",
    "        return C\n",
    "        \n",
    "    \n",
    "def strassen(A, B):\n",
    "    \"\"\"\n",
    "    Strassen algorithm for matrix multiplication \n",
    "    \n",
    "    Parameters: Matrices A, B\n",
    "    \n",
    "    Returns: Matrix C = AB\n",
    "    \"\"\"\n",
    "    \n",
    "    rowsA, columnsA = len(A), len(A[0])\n",
    "    rowsB, columnsB = len(B), len(B[0])\n",
    "    \n",
    "    nextPowerOfTwo = 1\n",
    "    while nextPowerOfTwo <= max(rowsA, rowsB, columnsB):\n",
    "        nextPowerOfTwo <<= 1\n",
    "        \n",
    "    A_expand = np.zeros((nextPowerOfTwo, nextPowerOfTwo))\n",
    "    B_expand = np.zeros((nextPowerOfTwo, nextPowerOfTwo))\n",
    "    A_expand[:rowsA, :columnsA] += A\n",
    "    B_expand[:rowsB, :columnsB] += B \n",
    "    C_expand = strassen_util(A_expand, B_expand)\n",
    "    C = C_expand[:rowsA, :columnsB]\n",
    "    \n",
    "    return C"
   ]
  },
  {
   "cell_type": "code",
   "execution_count": 5,
   "metadata": {
    "colab": {
     "base_uri": "https://localhost:8080/",
     "height": 442
    },
    "colab_type": "code",
    "id": "7OPcQ1jRoL_2",
    "outputId": "0f76815b-a1fa-4d07-86b4-739d318e2672"
   },
   "outputs": [
    {
     "name": "stdout",
     "output_type": "stream",
     "text": [
      "[[ 94.  92.  71.  38.  61.]\n",
      " [159. 132.  92.  75. 101.]\n",
      " [  9.   2.   2.  -3.   3.]\n",
      " [ 95. 103.  59.  50.  68.]\n",
      " [180. 153. 102. 118. 106.]]\n",
      "[[ 94.  92.  71.  38.  61.]\n",
      " [159. 132.  92.  75. 101.]\n",
      " [  9.   2.   2.  -3.   3.]\n",
      " [ 95. 103.  59.  50.  68.]\n",
      " [180. 153. 102. 118. 106.]]\n",
      "[[ 94  92  71  38  61]\n",
      " [159 132  92  75 101]\n",
      " [  9   2   2  -3   3]\n",
      " [ 95 103  59  50  68]\n",
      " [180 153 102 118 106]]\n",
      "[[ True  True  True  True  True]\n",
      " [ True  True  True  True  True]\n",
      " [ True  True  True  True  True]\n",
      " [ True  True  True  True  True]\n",
      " [ True  True  True  True  True]]\n",
      "[[ True  True  True  True  True]\n",
      " [ True  True  True  True  True]\n",
      " [ True  True  True  True  True]\n",
      " [ True  True  True  True  True]\n",
      " [ True  True  True  True  True]]\n"
     ]
    }
   ],
   "source": [
    "# Just verification of the implementation\n",
    "# No direct connection with the task\n",
    "\n",
    "#A = np.array([[1, 2, 3], [4, 5, 6], [0, 1, 2], [5, -1, 3]])\n",
    "#B = np.array([[4, 2, -3, 6], [5, -1, 0, 4], [-1, 0, 1, -2]])\n",
    "A = np.array([[1, 2, 3, 4, 5, 6], [4, 5, 6, 5, 6, 10], \n",
    "              [0, 1, 2, -1, 0, 2], [5, -1, 3, 4, 5, 6], [5, 3, -2, 10, 5, 6]])\n",
    "B = np.array([[4, 2, -3, 6, 4], [5, -1, 0, 4, 3], [-1, 0, 1, -2, 2], [10, 9, 8, 7, 6], \n",
    "             [-1, 4, 3, -2, 3], [8, 6, 4, 2, 1]])\n",
    "print(naive_multiplication(A, B))\n",
    "print(strassen(A, B))\n",
    "print(np.matmul(A, B))\n",
    "print(naive_multiplication(A, B) == strassen(A, B))\n",
    "print(naive_multiplication(A, B) == np.matmul(A, B))"
   ]
  },
  {
   "cell_type": "markdown",
   "metadata": {
    "colab_type": "text",
    "id": "sApbSnG-oL_3"
   },
   "source": [
    "## Let's make a comparison of naive matrix multiplication, Strassen's algorithm and the builtin function from numpy:"
   ]
  },
  {
   "cell_type": "code",
   "execution_count": 6,
   "metadata": {
    "colab": {},
    "colab_type": "code",
    "id": "I_50dzbZoL_4"
   },
   "outputs": [],
   "source": [
    "import time"
   ]
  },
  {
   "cell_type": "code",
   "execution_count": 7,
   "metadata": {
    "colab": {},
    "colab_type": "code",
    "id": "IQnOQZyaoL_5"
   },
   "outputs": [],
   "source": [
    "from tqdm import tqdm"
   ]
  },
  {
   "cell_type": "code",
   "execution_count": 8,
   "metadata": {
    "colab": {
     "base_uri": "https://localhost:8080/",
     "height": 34
    },
    "colab_type": "code",
    "id": "PchA0nnVoL_5",
    "outputId": "5abfe02e-47d6-47d2-869a-19b00f266e3a"
   },
   "outputs": [
    {
     "name": "stderr",
     "output_type": "stream",
     "text": [
      "100%|██████████| 7/7 [29:01<00:00, 392.75s/it]\n"
     ]
    }
   ],
   "source": [
    "# For simplicty, I will use randomly generated square matrices...\n",
    "# Since Strassen's algorithm extends the matrix to a 2^n-2^n matrix, I will use only this type \n",
    "# of matrices for better visualization.\n",
    "\n",
    "steps = 8\n",
    "rng = np.arange(100, 701, 100) #2 ** np.arange(steps)\n",
    "naive_elapsed = np.zeros(steps)\n",
    "strassen_elapsed = np.zeros(steps)\n",
    "numpy_elapsed = np.zeros(steps)\n",
    "\n",
    "ind = 0\n",
    "for st in tqdm(rng):\n",
    "    matrix_size = st\n",
    "    A = np.random.randint(0xfffff, size = (matrix_size, matrix_size))\n",
    "    B = np.random.randint(0xfffff, size = (matrix_size, matrix_size))\n",
    "    t = time.time()\n",
    "    C = naive_multiplication(A, B)\n",
    "    naive_elapsed[ind] = time.time() - t\n",
    "    t = time.time()\n",
    "    C = strassen(A, B)\n",
    "    strassen_elapsed[ind] = time.time() - t\n",
    "    t = time.time()\n",
    "    C = np.matmul(A, B)\n",
    "    numpy_elapsed[ind] = time.time() - t\n",
    "    ind += 1"
   ]
  },
  {
   "cell_type": "markdown",
   "metadata": {},
   "source": [
    "We can trace the progress above. The sizes of matrices can be changed to control running time."
   ]
  },
  {
   "cell_type": "code",
   "execution_count": 9,
   "metadata": {
    "colab": {},
    "colab_type": "code",
    "id": "qHwcgi8ToL_7"
   },
   "outputs": [
    {
     "data": {
      "image/png": "[encoded data removed]",
      "text/plain": [
       "<Figure size 432x288 with 1 Axes>"
      ]
     },
     "metadata": {
      "needs_background": "light"
     },
     "output_type": "display_data"
    }
   ],
   "source": [
    "x_axis = rng\n",
    "plt.loglog(x_axis, naive_elapsed[:steps - 1], label=\"naive method elapsed time\", basex=2)\n",
    "plt.loglog(x_axis, strassen_elapsed[:steps - 1], label=\"strassen elasped time\", basex=2)\n",
    "plt.loglog(x_axis, numpy_elapsed[:steps - 1], label=\"numpy elapsed time\", basex=2)\n",
    "plt.legend()\n",
    "plt.title(\"Performance comparison of 3 different methods in logscale\")\n",
    "plt.show()"
   ]
  },
  {
   "cell_type": "markdown",
   "metadata": {
    "colab_type": "text",
    "id": "3oFXyOe3oL_8"
   },
   "source": [
    "__Probably, due to almost pure C implementation, numpy works this fast in above examples.__"
   ]
  },
  {
   "cell_type": "markdown",
   "metadata": {
    "colab_type": "text",
    "id": "VZt8TgQFoL_9"
   },
   "source": [
    "Since $\\mathcal{O}(N^3)$ is exponentially larger than $\\mathcal{O}(N^{log2(7)}))$ we can easily conclude that for larger sized matrices, Strassen's algorithm will outperform the naive one. One remark we should make here is that the memory consumed by Strassen is much bigger than the naive one (a bunch of square matrices are created during the runtime)."
   ]
  },
  {
   "cell_type": "code",
   "execution_count": 10,
   "metadata": {
    "colab": {},
    "colab_type": "code",
    "id": "yfpeMaSZoL_9"
   },
   "outputs": [
    {
     "data": {
      "image/png": "[encoded data removed]",
      "text/plain": [
       "<Figure size 432x288 with 1 Axes>"
      ]
     },
     "metadata": {
      "needs_background": "light"
     },
     "output_type": "display_data"
    }
   ],
   "source": [
    "expected_Naive = np.arange(100, 701, 100) ** 3\n",
    "expected_Strassen = np.arange(100, 701, 100) ** math.log2(7.)\n",
    "plt.plot(np.arange(100, 701, 100), expected_Naive, label=\"Naive\")\n",
    "plt.plot(np.arange(100, 701, 100), expected_Strassen, label=\"Strassen\")\n",
    "plt.legend(loc=(1.05, 0.5))\n",
    "plt.title(\"Naive vs Strassen's method on total operations\", loc='right')\n",
    "plt.show()"
   ]
  },
  {
   "cell_type": "code",
   "execution_count": null,
   "metadata": {
    "colab": {},
    "colab_type": "code",
    "id": "TXPWUK9EpWOv"
   },
   "outputs": [],
   "source": []
  },
  {
   "cell_type": "code",
   "execution_count": null,
   "metadata": {},
   "outputs": [],
   "source": []
  }
 ],
 "metadata": {
  "colab": {
   "name": "Strassen.ipynb",
   "provenance": [],
   "version": "0.3.2"
  },
  "kernelspec": {
   "display_name": "Python 3",
   "language": "python",
   "name": "python3"
  },
  "language_info": {
   "codemirror_mode": {
    "name": "ipython",
    "version": 3
   },
   "file_extension": ".py",
   "mimetype": "text/x-python",
   "name": "python",
   "nbconvert_exporter": "python",
   "pygments_lexer": "ipython3",
   "version": "3.6.8"
  }
 },
 "nbformat": 4,
 "nbformat_minor": 2
}
