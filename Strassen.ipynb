{
  "nbformat": 4,
  "nbformat_minor": 0,
  "metadata": {
    "colab": {
      "name": "Strassen.ipynb",
      "version": "0.3.2",
      "provenance": []
    },
    "kernelspec": {
      "display_name": "Python 3",
      "language": "python",
      "name": "python3"
    }
  },
  "cells": [
    {
      "metadata": {
        "id": "Z7DvlLzHoL_K",
        "colab_type": "code",
        "colab": {}
      },
      "cell_type": "code",
      "source": [
        "import numpy as np\n",
        "import math\n",
        "import matplotlib.pyplot as plt\n",
        "from IPython.display import Audio\n",
        "%matplotlib inline "
      ],
      "execution_count": 0,
      "outputs": []
    },
    {
      "metadata": {
        "id": "nmRpMZkpoL_z",
        "colab_type": "text"
      },
      "cell_type": "markdown",
      "source": [
        "# Strassen algorithm\n",
        "\n"
      ]
    },
    {
      "metadata": {
        "id": "So_3vaAUoL_z",
        "colab_type": "code",
        "colab": {}
      },
      "cell_type": "code",
      "source": [
        "def naive_multiplication(A, B):\n",
        "    \"\"\"\n",
        "    Naive matrix multiplication\n",
        "    Parameters: Matrices A, B\n",
        "    \n",
        "    Returns: Matrix C = AB\n",
        "    \"\"\"\n",
        "    \n",
        "    rowsA, columnsA = len(A), len(A[0])\n",
        "    rowsB, columnsB = len(B), len(B[0])\n",
        "    \n",
        "    #if columnsA != rowsB:\n",
        "    #    return \"can not multiply\" \n",
        "    # or throw/return something else\n",
        "    \n",
        "    C = np.zeros((rowsA, columnsB))\n",
        "    for i in range(rowsA):\n",
        "        for j in range(columnsB):\n",
        "            for k in range(rowsB):\n",
        "                C[i][j] += A[i][k] * B[k][j]\n",
        "    return C"
      ],
      "execution_count": 0,
      "outputs": []
    },
    {
      "metadata": {
        "id": "UzxZr6I5oL_1",
        "colab_type": "code",
        "colab": {}
      },
      "cell_type": "code",
      "source": [
        "# Implemented using the pseudocodes given in\n",
        "# https://en.wikipedia.org/wiki/Strassen_algorithm\n",
        "# http://users.monash.edu/~lloyd/tildeProgLang/Algol68/strassen.a68\n",
        "\n",
        "def strassen_util(A, B):\n",
        "    n = len(A)\n",
        "    if n <= 4:\n",
        "        # I could use 667 here, but just to let Strassen to be called instead of naive multiplication\n",
        "        # for more cases considering that you ask to use max(N) = 700 in the below tasks.\n",
        "        return naive_multiplication(A, B) # no point of using Strassen for smaller matrices\n",
        "    else:\n",
        "        half_size = (n >> 1)\n",
        "        #A11 = np.zeros((half_size, half_size))\n",
        "        A11 = A[:half_size, :half_size]\n",
        "        #A12 = np.zeros((half_size, half_size))\n",
        "        A12 = A[:half_size, half_size:]\n",
        "        #A21 = np.zeros((half_size, half_size))\n",
        "        A21 = A[half_size:, :half_size]\n",
        "        #A22 = np.zeros((half_size, half_size))\n",
        "        A22 = A[half_size:, half_size:]\n",
        "        \n",
        "        #B11 = np.zeros((half_size, half_size))\n",
        "        B11 = B[:half_size, :half_size]\n",
        "        #B12 = np.zeros((half_size, half_size))\n",
        "        B12 = B[:half_size, half_size:]\n",
        "        #B21 = np.zeros((half_size, half_size))\n",
        "        B21 = B[half_size:, :half_size]\n",
        "        #B22 = np.zeros((half_size, half_size))\n",
        "        B22 = B[half_size:, half_size:]\n",
        "    \n",
        "        A_final = np.zeros((half_size, half_size))\n",
        "        B_final = np.zeros((half_size, half_size))\n",
        "          \n",
        "        p1 = strassen_util(A11 + A22, B11 + B22)\n",
        "        p2 = strassen_util(A21 + A22, B11)\n",
        "        p3 = strassen_util(A11, B12 - B22)\n",
        "        p4 = strassen_util(A22, B21 - B11)\n",
        "        p5 = strassen_util(A11 + A12, B22)\n",
        "        p6 = strassen_util(A21 - A11, B11 + B12)\n",
        "        p7 = strassen_util(A12 - A22, B21 + B22)\n",
        "\n",
        "        C12 = p3 + p5\n",
        "        C21 = p2 + p4\n",
        "        A_final = p1 + p4\n",
        "        B_final = A_final + p7\n",
        "        C11 = B_final - p5\n",
        "        A_final = p1 + p3\n",
        "        B_final = A_final + p6\n",
        "        C22 = B_final - p2\n",
        "        C = np.zeros((n, n))\n",
        "        #pdb.set_trace()\n",
        "        C[:half_size, :half_size] = C11[:half_size, :half_size]\n",
        "        C[:half_size, half_size:] = C12[:half_size, :half_size]\n",
        "        C[half_size:, :half_size] = C21[:half_size, :half_size]\n",
        "        C[half_size:, half_size:] = C22[:half_size, :half_size]\n",
        "#         for i in range(half_size):\n",
        "#             for j in range(half_size):\n",
        "#                 C[i][j] = C11[i][j]\n",
        "#                 C[i][j + half_size] = C12[i][j]\n",
        "#                 C[i + half_size][j] = C21[i][j]\n",
        "#                 C[i + half_size][j + half_size] = C22[i][j]\n",
        "        return C\n",
        "        \n",
        "    \n",
        "def strassen(A, B):\n",
        "    \"\"\"\n",
        "    Strassen algorithm for matrix multiplication \n",
        "    \n",
        "    Parameters: Matrices A, B\n",
        "    \n",
        "    Returns: Matrix C = AB\n",
        "    \"\"\"\n",
        "    \n",
        "    rowsA, columnsA = len(A), len(A[0])\n",
        "    rowsB, columnsB = len(B), len(B[0])\n",
        "    \n",
        "    nextPowerOfTwo = 1\n",
        "    while nextPowerOfTwo <= max(rowsA, rowsB, columnsB):\n",
        "        nextPowerOfTwo <<= 1\n",
        "        \n",
        "    A_expand = np.zeros((nextPowerOfTwo, nextPowerOfTwo))\n",
        "    B_expand = np.zeros((nextPowerOfTwo, nextPowerOfTwo))\n",
        "    A_expand[:rowsA, :columnsA] += A\n",
        "    B_expand[:rowsB, :columnsB] += B \n",
        "    C_expand = strassen_util(A_expand, B_expand)\n",
        "    C = C_expand[:rowsA, :columnsB]\n",
        "    \n",
        "    return C"
      ],
      "execution_count": 0,
      "outputs": []
    },
    {
      "metadata": {
        "id": "7OPcQ1jRoL_2",
        "colab_type": "code",
        "colab": {
          "base_uri": "https://localhost:8080/",
          "height": 442
        },
        "outputId": "0f76815b-a1fa-4d07-86b4-739d318e2672"
      },
      "cell_type": "code",
      "source": [
        "# Just verification of the implementation\n",
        "# No direct connection with the task\n",
        "\n",
        "#A = np.array([[1, 2, 3], [4, 5, 6], [0, 1, 2], [5, -1, 3]])\n",
        "#B = np.array([[4, 2, -3, 6], [5, -1, 0, 4], [-1, 0, 1, -2]])\n",
        "A = np.array([[1, 2, 3, 4, 5, 6], [4, 5, 6, 5, 6, 10], \n",
        "              [0, 1, 2, -1, 0, 2], [5, -1, 3, 4, 5, 6], [5, 3, -2, 10, 5, 6]])\n",
        "B = np.array([[4, 2, -3, 6, 4], [5, -1, 0, 4, 3], [-1, 0, 1, -2, 2], [10, 9, 8, 7, 6], \n",
        "             [-1, 4, 3, -2, 3], [8, 6, 4, 2, 1]])\n",
        "print(naive_multiplication(A, B))\n",
        "print(strassen(A, B))\n",
        "print(np.matmul(A, B))\n",
        "print(naive_multiplication(A, B) == strassen(A, B))\n",
        "print(naive_multiplication(A, B) == np.matmul(A, B))"
      ],
      "execution_count": 4,
      "outputs": [
        {
          "output_type": "stream",
          "text": [
            "[[ 94.  92.  71.  38.  61.]\n",
            " [159. 132.  92.  75. 101.]\n",
            " [  9.   2.   2.  -3.   3.]\n",
            " [ 95. 103.  59.  50.  68.]\n",
            " [180. 153. 102. 118. 106.]]\n",
            "[[ 94.  92.  71.  38.  61.]\n",
            " [159. 132.  92.  75. 101.]\n",
            " [  9.   2.   2.  -3.   3.]\n",
            " [ 95. 103.  59.  50.  68.]\n",
            " [180. 153. 102. 118. 106.]]\n",
            "[[ 94  92  71  38  61]\n",
            " [159 132  92  75 101]\n",
            " [  9   2   2  -3   3]\n",
            " [ 95 103  59  50  68]\n",
            " [180 153 102 118 106]]\n",
            "[[ True  True  True  True  True]\n",
            " [ True  True  True  True  True]\n",
            " [ True  True  True  True  True]\n",
            " [ True  True  True  True  True]\n",
            " [ True  True  True  True  True]]\n",
            "[[ True  True  True  True  True]\n",
            " [ True  True  True  True  True]\n",
            " [ True  True  True  True  True]\n",
            " [ True  True  True  True  True]\n",
            " [ True  True  True  True  True]]\n"
          ],
          "name": "stdout"
        }
      ]
    },
    {
      "metadata": {
        "id": "sApbSnG-oL_3",
        "colab_type": "text"
      },
      "cell_type": "markdown",
      "source": [
        "Comparison of naive matrix multiplication, Strassen's algorithm and the builtin function from numpy:"
      ]
    },
    {
      "metadata": {
        "id": "I_50dzbZoL_4",
        "colab_type": "code",
        "colab": {}
      },
      "cell_type": "code",
      "source": [
        "import time"
      ],
      "execution_count": 0,
      "outputs": []
    },
    {
      "metadata": {
        "id": "IQnOQZyaoL_5",
        "colab_type": "code",
        "colab": {}
      },
      "cell_type": "code",
      "source": [
        "from tqdm import tqdm"
      ],
      "execution_count": 0,
      "outputs": []
    },
    {
      "metadata": {
        "id": "PchA0nnVoL_5",
        "colab_type": "code",
        "colab": {
          "base_uri": "https://localhost:8080/",
          "height": 34
        },
        "outputId": "5abfe02e-47d6-47d2-869a-19b00f266e3a"
      },
      "cell_type": "code",
      "source": [
        "# For simplicty, I will use randomly generated square matrices...\n",
        "# Since Strassen's algorithm extends the matrix to a 2^n-2^n matrix, I will use only this type \n",
        "# of matrices for better visualization.\n",
        "\n",
        "steps = 8\n",
        "rng = np.arange(100, 701, 100) #2 ** np.arange(steps)\n",
        "naive_elapsed = np.zeros(steps)\n",
        "strassen_elapsed = np.zeros(steps)\n",
        "numpy_elapsed = np.zeros(steps)\n",
        "\n",
        "ind = 0\n",
        "for st in tqdm(rng):\n",
        "    matrix_size = st\n",
        "    A = np.random.randint(0xfffff, size = (matrix_size, matrix_size))\n",
        "    B = np.random.randint(0xfffff, size = (matrix_size, matrix_size))\n",
        "    t = time.time()\n",
        "    C = naive_multiplication(A, B)\n",
        "    naive_elapsed[ind] = time.time() - t\n",
        "    t = time.time()\n",
        "    C = strassen(A, B)\n",
        "    strassen_elapsed[ind] = time.time() - t\n",
        "    t = time.time()\n",
        "    C = np.matmul(A, B)\n",
        "    numpy_elapsed[ind] = time.time() - t\n",
        "    ind += 1"
      ],
      "execution_count": 0,
      "outputs": [
        {
          "output_type": "stream",
          "text": [
            " 29%|██▊       | 2/7 [00:20<00:36,  7.22s/it]"
          ],
          "name": "stderr"
        }
      ]
    },
    {
      "metadata": {
        "id": "qHwcgi8ToL_7",
        "colab_type": "code",
        "colab": {}
      },
      "cell_type": "code",
      "source": [
        "x_axis = rng\n",
        "plt.loglog(x_axis, naive_elapsed[:steps - 1], label=\"naive method elapsed time\", basex=2)\n",
        "plt.loglog(x_axis, strassen_elapsed[:steps - 1], label=\"strassen elasped time\", basex=2)\n",
        "plt.loglog(x_axis, numpy_elapsed[:steps - 1], label=\"numpy elapsed time\", basex=2)\n",
        "plt.legend()\n",
        "plt.title(\"Performance comparison of 3 different methods in logscale\")\n",
        "plt.show()"
      ],
      "execution_count": 0,
      "outputs": []
    },
    {
      "metadata": {
        "id": "3oFXyOe3oL_8",
        "colab_type": "text"
      },
      "cell_type": "markdown",
      "source": [
        "__Probably, due to almost pure C implementation, numpy works this fast in above examples.__"
      ]
    },
    {
      "metadata": {
        "id": "VZt8TgQFoL_9",
        "colab_type": "text"
      },
      "cell_type": "markdown",
      "source": [
        "Since $\\mathcal{O}(N^3)$ is exponentially larger than $\\mathcal{O}(N^{log2(7)}))$ we can easily conclude that for larger sized matrices, Strassen's algorithm will outperform the naive one. One remark we should make here is that the memory consumed by Strassen is much bigger than the naive one (a bunch of square matrices are created during the runtime)."
      ]
    },
    {
      "metadata": {
        "id": "yfpeMaSZoL_9",
        "colab_type": "code",
        "colab": {}
      },
      "cell_type": "code",
      "source": [
        "expected_Naive = np.arange(100, 701, 100) ** 3\n",
        "expected_Strassen = np.arange(100, 701, 100) ** math.log2(7.)\n",
        "plt.plot(np.arange(100, 701, 100), expected_Naive, label=\"Naive\")\n",
        "plt.plot(np.arange(100, 701, 100), expected_Strassen, label=\"Strassen\")\n",
        "plt.legend(loc=(1.05, 0.5))\n",
        "plt.title(\"Naive vs Strassen's method on total operations\", loc='right')\n",
        "plt.show()"
      ],
      "execution_count": 0,
      "outputs": []
    },
    {
      "metadata": {
        "id": "TXPWUK9EpWOv",
        "colab_type": "code",
        "colab": {}
      },
      "cell_type": "code",
      "source": [
        ""
      ],
      "execution_count": 0,
      "outputs": []
    }
  ]
}